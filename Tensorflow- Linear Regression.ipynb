{
 "cells": [
  {
   "cell_type": "markdown",
   "metadata": {},
   "source": [
    "## Using TensorFlow to implement the linear regression algorithm"
   ]
  },
  {
   "cell_type": "code",
   "execution_count": 12,
   "metadata": {},
   "outputs": [],
   "source": [
    "import tensorflow as tf\n",
    "import numpy as np\n",
    "import matplotlib.pyplot as plt\n",
    "rng = np.random"
   ]
  },
  {
   "cell_type": "code",
   "execution_count": 7,
   "metadata": {
    "collapsed": true
   },
   "outputs": [],
   "source": [
    "learning_rate = 0.01\n",
    "training_iterations = 1000\n",
    "display_step = 50"
   ]
  },
  {
   "cell_type": "markdown",
   "metadata": {},
   "source": [
    "## Random training data"
   ]
  },
  {
   "cell_type": "code",
   "execution_count": 8,
   "metadata": {},
   "outputs": [],
   "source": [
    "train_X = np.asarray([3.3,4.4,5.5,6.71,6.93,4.168,9.779,6.182,7.59,2.167,\n",
    "                         7.042,10.791,5.313,7.997,5.654,9.27,3.1])\n",
    "train_Y = np.asarray([1.7,2.76,2.09,3.19,1.694,1.573,3.366,2.596,2.53,1.221,\n",
    "                         2.827,3.465,1.65,2.904,2.42,2.94,1.3])\n",
    "n_samples = train_X.shape[0]"
   ]
  },
  {
   "cell_type": "code",
   "execution_count": 10,
   "metadata": {},
   "outputs": [],
   "source": [
    "X = tf.placeholder('float')\n",
    "Y = tf.placeholder('float')\n",
    "\n",
    "W = tf.Variable(rng.randn(), name = 'weight')\n",
    "b = tf.Variable(rng.randn(), name = 'bias')"
   ]
  },
  {
   "cell_type": "code",
   "execution_count": 16,
   "metadata": {},
   "outputs": [],
   "source": [
    "pred = tf.add(tf.multiply(X,W), b)"
   ]
  },
  {
   "cell_type": "code",
   "execution_count": 18,
   "metadata": {},
   "outputs": [],
   "source": [
    "# mean squared error\n",
    "\n",
    "cost = tf.reduce_sum(tf.pow(pred-Y, 2))/(2*n_samples)\n",
    "\n",
    "# gradient descent\n",
    "\n",
    "optimizer = tf.train.GradientDescentOptimizer(learning_rate).minimize(cost)"
   ]
  },
  {
   "cell_type": "code",
   "execution_count": 19,
   "metadata": {
    "collapsed": true
   },
   "outputs": [],
   "source": [
    "init = tf.global_variables_initializer()"
   ]
  },
  {
   "cell_type": "code",
   "execution_count": 29,
   "metadata": {},
   "outputs": [
    {
     "name": "stdout",
     "output_type": "stream",
     "text": [
      "Epoch: 0050 cost= 0.007298284 W= 0.438494 b= -0.55747\n",
      "Epoch: 0100 cost= 0.006012765 W= 0.427259 b= -0.476647\n",
      "Epoch: 0150 cost= 0.004917257 W= 0.416693 b= -0.400632\n",
      "Epoch: 0200 cost= 0.003987370 W= 0.406754 b= -0.329138\n",
      "Epoch: 0250 cost= 0.003201642 W= 0.397407 b= -0.261896\n",
      "Epoch: 0300 cost= 0.002541238 W= 0.388616 b= -0.198653\n",
      "Epoch: 0350 cost= 0.001989650 W= 0.380348 b= -0.139171\n",
      "Epoch: 0400 cost= 0.001532376 W= 0.372571 b= -0.083227\n",
      "Epoch: 0450 cost= 0.001156700 W= 0.365257 b= -0.0306101\n",
      "Epoch: 0500 cost= 0.000851500 W= 0.358378 b= 0.0188774\n",
      "Epoch: 0550 cost= 0.000607026 W= 0.351908 b= 0.0654216\n",
      "Epoch: 0600 cost= 0.000414755 W= 0.345823 b= 0.109198\n",
      "Epoch: 0650 cost= 0.000267234 W= 0.3401 b= 0.15037\n",
      "Epoch: 0700 cost= 0.000157952 W= 0.334717 b= 0.189094\n",
      "Epoch: 0750 cost= 0.000081241 W= 0.329654 b= 0.225515\n",
      "Epoch: 0800 cost= 0.000032152 W= 0.324893 b= 0.259769\n",
      "Epoch: 0850 cost= 0.000006381 W= 0.320414 b= 0.291986\n",
      "Epoch: 0900 cost= 0.000000186 W= 0.316202 b= 0.322288\n",
      "Epoch: 0950 cost= 0.000010321 W= 0.312241 b= 0.350786\n",
      "Epoch: 1000 cost= 0.000033974 W= 0.308515 b= 0.377591\n",
      "optimization complete\n",
      "Training cost =  0.0880346 W= 0.308515 b= 0.377591\n"
     ]
    }
   ],
   "source": [
    "# Running TF sessions to find output of (xW + b) and plotting to compare\n",
    "\n",
    "with tf.Session() as sess:\n",
    "    sess.run(init)\n",
    "    \n",
    "    for epoch in range(training_iterations):\n",
    "        for (x,y) in zip(train_X, train_Y):\n",
    "            sess.run(optimizer, feed_dict = {X:x, Y:y})\n",
    "    \n",
    "        if (epoch + 1) % display_step == 0:\n",
    "            c = sess.run(cost, feed_dict = {X:x, Y:y})\n",
    "            print (\"Epoch:\", '%04d' % (epoch+1), \"cost=\", \"{:.9f}\".format(c), \\\n",
    "                \"W=\", sess.run(W), \"b=\", sess.run(b))\n",
    "                \n",
    "    print (\"optimization complete\")\n",
    "    training_cost = sess.run(cost, feed_dict = {X: train_X, Y: train_Y})\n",
    "    print (\"Training cost = \", training_cost, \"W=\", sess.run(W), \"b=\", sess.run(b))\n",
    "    \n",
    "    plt.plot(train_X, train_Y, 'ro', label='Original data')\n",
    "    plt.plot(train_X, sess.run(W) * train_X + sess.run(b), label='Fitted line')\n",
    "\n"
   ]
  },
  {
   "attachments": {
    "image.png": {
     "image/png": "[encoded data removed]"
    }
   },
   "cell_type": "markdown",
   "metadata": {},
   "source": [
    "![image.png](attachment:image.png)"
   ]
  }
 ],
 "metadata": {
  "kernelspec": {
   "display_name": "Python 3",
   "language": "python",
   "name": "python3"
  },
  "language_info": {
   "codemirror_mode": {
    "name": "ipython",
    "version": 3
   },
   "file_extension": ".py",
   "mimetype": "text/x-python",
   "name": "python",
   "nbconvert_exporter": "python",
   "pygments_lexer": "ipython3",
   "version": "3.6.1"
  }
 },
 "nbformat": 4,
 "nbformat_minor": 2
}
