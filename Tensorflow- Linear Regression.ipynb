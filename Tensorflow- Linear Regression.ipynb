{
 "cells": [
  {
   "cell_type": "markdown",
   "metadata": {},
   "source": [
    "## Using TensorFlow to implement the linear regression algorithm"
   ]
  },
  {
   "cell_type": "code",
   "execution_count": 31,
   "metadata": {},
   "outputs": [],
   "source": [
    "import tensorflow as tf\n",
    "import numpy as np\n",
    "import matplotlib.pyplot as plt\n",
    "rng = np.random"
   ]
  },
  {
   "cell_type": "code",
   "execution_count": 32,
   "metadata": {
    "collapsed": true
   },
   "outputs": [],
   "source": [
    "learning_rate = 0.01\n",
    "training_iterations = 1000\n",
    "display_step = 50"
   ]
  },
  {
   "cell_type": "markdown",
   "metadata": {},
   "source": [
    "## Random training data"
   ]
  },
  {
   "cell_type": "code",
   "execution_count": 33,
   "metadata": {},
   "outputs": [],
   "source": [
    "train_X = np.asarray([3.3,4.4,5.5,6.71,6.93,4.168,9.779,6.182,7.59,2.167,\n",
    "                         7.042,10.791,5.313,7.997,5.654,9.27,3.1])\n",
    "train_Y = np.asarray([1.7,2.76,2.09,3.19,1.694,1.573,3.366,2.596,2.53,1.221,\n",
    "                         2.827,3.465,1.65,2.904,2.42,2.94,1.3])\n",
    "n_samples = train_X.shape[0]"
   ]
  },
  {
   "cell_type": "code",
   "execution_count": 34,
   "metadata": {},
   "outputs": [],
   "source": [
    "X = tf.placeholder('float')\n",
    "Y = tf.placeholder('float')\n",
    "\n",
    "W = tf.Variable(rng.randn(), name = 'weight')\n",
    "b = tf.Variable(rng.randn(), name = 'bias')"
   ]
  },
  {
   "cell_type": "code",
   "execution_count": 35,
   "metadata": {},
   "outputs": [],
   "source": [
    "pred = tf.add(tf.multiply(X,W), b)"
   ]
  },
  {
   "cell_type": "code",
   "execution_count": 36,
   "metadata": {},
   "outputs": [],
   "source": [
    "# mean squared error\n",
    "\n",
    "cost = tf.reduce_sum(tf.pow(pred-Y, 2))/(2*n_samples)\n",
    "\n",
    "# gradient descent\n",
    "\n",
    "optimizer = tf.train.GradientDescentOptimizer(learning_rate).minimize(cost)"
   ]
  },
  {
   "cell_type": "code",
   "execution_count": 37,
   "metadata": {
    "collapsed": true
   },
   "outputs": [],
   "source": [
    "init = tf.global_variables_initializer()"
   ]
  },
  {
   "cell_type": "code",
   "execution_count": 38,
   "metadata": {},
   "outputs": [
    {
     "name": "stdout",
     "output_type": "stream",
     "text": [
      "Epoch: 0050 cost= 0.000241475 W= 0.338949 b= 0.158647\n",
      "Epoch: 0100 cost= 0.000139433 W= 0.333635 b= 0.196879\n",
      "Epoch: 0150 cost= 0.000068870 W= 0.328637 b= 0.232837\n",
      "Epoch: 0200 cost= 0.000024982 W= 0.323936 b= 0.266656\n",
      "Epoch: 0250 cost= 0.000003587 W= 0.319514 b= 0.298464\n",
      "Epoch: 0300 cost= 0.000001052 W= 0.315356 b= 0.32838\n",
      "Epoch: 0350 cost= 0.000014227 W= 0.311444 b= 0.356516\n",
      "Epoch: 0400 cost= 0.000040382 W= 0.307766 b= 0.38298\n",
      "Epoch: 0450 cost= 0.000077155 W= 0.304306 b= 0.40787\n",
      "Epoch: 0500 cost= 0.000122511 W= 0.301052 b= 0.431278\n",
      "Epoch: 0550 cost= 0.000174695 W= 0.297991 b= 0.453296\n",
      "Epoch: 0600 cost= 0.000232205 W= 0.295113 b= 0.474003\n",
      "Epoch: 0650 cost= 0.000293748 W= 0.292406 b= 0.493479\n",
      "Epoch: 0700 cost= 0.000358218 W= 0.28986 b= 0.511796\n",
      "Epoch: 0750 cost= 0.000424690 W= 0.287465 b= 0.529023\n",
      "Epoch: 0800 cost= 0.000492374 W= 0.285212 b= 0.545227\n",
      "Epoch: 0850 cost= 0.000560592 W= 0.283094 b= 0.560467\n",
      "Epoch: 0900 cost= 0.000628797 W= 0.281101 b= 0.574802\n",
      "Epoch: 0950 cost= 0.000696515 W= 0.279227 b= 0.588283\n",
      "Epoch: 1000 cost= 0.000763374 W= 0.277465 b= 0.600964\n",
      "optimization complete\n",
      "Training cost =  0.0794399 W= 0.277465 b= 0.600964\n"
     ]
    },
    {
     "data": {
      "image/png": "[encoded data removed]",
      "text/plain": [
       "<matplotlib.figure.Figure at 0x121165be0>"
      ]
     },
     "metadata": {},
     "output_type": "display_data"
    }
   ],
   "source": [
    "# Running TF sessions to find output of (xW + b) and plotting to compare\n",
    "\n",
    "with tf.Session() as sess:\n",
    "    sess.run(init)\n",
    "    \n",
    "    for epoch in range(training_iterations):\n",
    "        for (x,y) in zip(train_X, train_Y):\n",
    "            sess.run(optimizer, feed_dict = {X:x, Y:y})\n",
    "    \n",
    "        if (epoch + 1) % display_step == 0:\n",
    "            c = sess.run(cost, feed_dict = {X:x, Y:y})\n",
    "            print (\"Epoch:\", '%04d' % (epoch+1), \"cost=\", \"{:.9f}\".format(c), \\\n",
    "                \"W=\", sess.run(W), \"b=\", sess.run(b))\n",
    "                \n",
    "    print (\"optimization complete\")\n",
    "    training_cost = sess.run(cost, feed_dict = {X: train_X, Y: train_Y})\n",
    "    print (\"Training cost = \", training_cost, \"W=\", sess.run(W), \"b=\", sess.run(b))\n",
    "    \n",
    "    plt.plot(train_X, train_Y, 'ro', label='Original data')\n",
    "    plt.plot(train_X, sess.run(W) * train_X + sess.run(b), label='Fitted line')\n",
    "    plt.legend()\n",
    "    plt.show()\n"
   ]
  }
 ],
 "metadata": {
  "kernelspec": {
   "display_name": "Python 3",
   "language": "python",
   "name": "python3"
  },
  "language_info": {
   "codemirror_mode": {
    "name": "ipython",
    "version": 3
   },
   "file_extension": ".py",
   "mimetype": "text/x-python",
   "name": "python",
   "nbconvert_exporter": "python",
   "pygments_lexer": "ipython3",
   "version": "3.6.1"
  }
 },
 "nbformat": 4,
 "nbformat_minor": 2
}
