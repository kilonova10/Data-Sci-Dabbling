{
 "cells": [
  {
   "cell_type": "markdown",
   "metadata": {},
   "source": [
    "# Using ULMO to fetch climatology data and see temperature trends\n",
    "\n",
    "## Data from meteorological stations will be pulled and analyzed\n",
    "\n",
    "install : !pip install ulmo"
   ]
  },
  {
   "cell_type": "code",
   "execution_count": 30,
   "metadata": {},
   "outputs": [],
   "source": [
    "import ulmo\n",
    "import pandas as pd\n",
    "import matplotlib.pyplot as plt"
   ]
  },
  {
   "cell_type": "markdown",
   "metadata": {},
   "source": [
    "## Data is from  National Climatic Data Center Global Historical Climate Network \n",
    "\n",
    "## Below, we read in climate data from all the weather stations in Spain"
   ]
  },
  {
   "cell_type": "code",
   "execution_count": 9,
   "metadata": {
    "collapsed": true
   },
   "outputs": [],
   "source": [
    "st = ulmo.ncdc.ghcn_daily.get_stations(country='SP', as_dataframe=True)"
   ]
  },
  {
   "cell_type": "code",
   "execution_count": 10,
   "metadata": {},
   "outputs": [
    {
     "data": {
      "text/html": [
       "<div>\n",
       "<style>\n",
       "    .dataframe thead tr:only-child th {\n",
       "        text-align: right;\n",
       "    }\n",
       "\n",
       "    .dataframe thead th {\n",
       "        text-align: left;\n",
       "    }\n",
       "\n",
       "    .dataframe tbody tr th {\n",
       "        vertical-align: top;\n",
       "    }\n",
       "</style>\n",
       "<table border=\"1\" class=\"dataframe\">\n",
       "  <thead>\n",
       "    <tr style=\"text-align: right;\">\n",
       "      <th></th>\n",
       "      <th>country</th>\n",
       "      <th>network</th>\n",
       "      <th>network_id</th>\n",
       "      <th>latitude</th>\n",
       "      <th>longitude</th>\n",
       "      <th>elevation</th>\n",
       "      <th>state</th>\n",
       "      <th>name</th>\n",
       "      <th>gsn_flag</th>\n",
       "      <th>hcn_flag</th>\n",
       "      <th>wm_oid</th>\n",
       "      <th>id</th>\n",
       "    </tr>\n",
       "    <tr>\n",
       "      <th>id</th>\n",
       "      <th></th>\n",
       "      <th></th>\n",
       "      <th></th>\n",
       "      <th></th>\n",
       "      <th></th>\n",
       "      <th></th>\n",
       "      <th></th>\n",
       "      <th></th>\n",
       "      <th></th>\n",
       "      <th></th>\n",
       "      <th></th>\n",
       "      <th></th>\n",
       "    </tr>\n",
       "  </thead>\n",
       "  <tbody>\n",
       "    <tr>\n",
       "      <th>SP000003195</th>\n",
       "      <td>SP</td>\n",
       "      <td>0</td>\n",
       "      <td>00003195</td>\n",
       "      <td>40.4117</td>\n",
       "      <td>-3.6781</td>\n",
       "      <td>667.0</td>\n",
       "      <td>NaN</td>\n",
       "      <td>MADRID - RETIRO</td>\n",
       "      <td>NaN</td>\n",
       "      <td>NaN</td>\n",
       "      <td>8222</td>\n",
       "      <td>SP000003195</td>\n",
       "    </tr>\n",
       "    <tr>\n",
       "      <th>SP000004452</th>\n",
       "      <td>SP</td>\n",
       "      <td>0</td>\n",
       "      <td>00004452</td>\n",
       "      <td>38.8831</td>\n",
       "      <td>-6.8292</td>\n",
       "      <td>185.0</td>\n",
       "      <td>NaN</td>\n",
       "      <td>BADAJOZ/TALAVERA LA REAL</td>\n",
       "      <td>NaN</td>\n",
       "      <td>NaN</td>\n",
       "      <td>8330</td>\n",
       "      <td>SP000004452</td>\n",
       "    </tr>\n",
       "    <tr>\n",
       "      <th>SP000006155</th>\n",
       "      <td>SP</td>\n",
       "      <td>0</td>\n",
       "      <td>00006155</td>\n",
       "      <td>36.6667</td>\n",
       "      <td>-4.4881</td>\n",
       "      <td>7.0</td>\n",
       "      <td>NaN</td>\n",
       "      <td>MALAGA AEROPUERTO</td>\n",
       "      <td>NaN</td>\n",
       "      <td>NaN</td>\n",
       "      <td>8482</td>\n",
       "      <td>SP000006155</td>\n",
       "    </tr>\n",
       "    <tr>\n",
       "      <th>SP000007038</th>\n",
       "      <td>SP</td>\n",
       "      <td>0</td>\n",
       "      <td>00007038</td>\n",
       "      <td>37.9769</td>\n",
       "      <td>0.7106</td>\n",
       "      <td>1.0</td>\n",
       "      <td>NaN</td>\n",
       "      <td>TORREVIEJA</td>\n",
       "      <td>NaN</td>\n",
       "      <td>NaN</td>\n",
       "      <td>8433</td>\n",
       "      <td>SP000007038</td>\n",
       "    </tr>\n",
       "    <tr>\n",
       "      <th>SP000008027</th>\n",
       "      <td>SP</td>\n",
       "      <td>0</td>\n",
       "      <td>00008027</td>\n",
       "      <td>43.3075</td>\n",
       "      <td>-2.0392</td>\n",
       "      <td>251.0</td>\n",
       "      <td>NaN</td>\n",
       "      <td>SAN SEBASTIAN - IGUELDO</td>\n",
       "      <td>GSN</td>\n",
       "      <td>NaN</td>\n",
       "      <td>8027</td>\n",
       "      <td>SP000008027</td>\n",
       "    </tr>\n",
       "  </tbody>\n",
       "</table>\n",
       "</div>"
      ],
      "text/plain": [
       "            country network network_id  latitude  longitude  elevation state  \\\n",
       "id                                                                             \n",
       "SP000003195      SP       0   00003195   40.4117    -3.6781      667.0   NaN   \n",
       "SP000004452      SP       0   00004452   38.8831    -6.8292      185.0   NaN   \n",
       "SP000006155      SP       0   00006155   36.6667    -4.4881        7.0   NaN   \n",
       "SP000007038      SP       0   00007038   37.9769     0.7106        1.0   NaN   \n",
       "SP000008027      SP       0   00008027   43.3075    -2.0392      251.0   NaN   \n",
       "\n",
       "                                 name gsn_flag hcn_flag wm_oid           id  \n",
       "id                                                                           \n",
       "SP000003195           MADRID - RETIRO      NaN      NaN   8222  SP000003195  \n",
       "SP000004452  BADAJOZ/TALAVERA LA REAL      NaN      NaN   8330  SP000004452  \n",
       "SP000006155         MALAGA AEROPUERTO      NaN      NaN   8482  SP000006155  \n",
       "SP000007038                TORREVIEJA      NaN      NaN   8433  SP000007038  \n",
       "SP000008027   SAN SEBASTIAN - IGUELDO      GSN      NaN   8027  SP000008027  "
      ]
     },
     "execution_count": 10,
     "metadata": {},
     "output_type": "execute_result"
    }
   ],
   "source": [
    "st.head()"
   ]
  },
  {
   "cell_type": "markdown",
   "metadata": {},
   "source": [
    "## Let's focus our analysis towards Barcelona"
   ]
  },
  {
   "cell_type": "code",
   "execution_count": 11,
   "metadata": {},
   "outputs": [
    {
     "data": {
      "text/html": [
       "<div>\n",
       "<style>\n",
       "    .dataframe thead tr:only-child th {\n",
       "        text-align: right;\n",
       "    }\n",
       "\n",
       "    .dataframe thead th {\n",
       "        text-align: left;\n",
       "    }\n",
       "\n",
       "    .dataframe tbody tr th {\n",
       "        vertical-align: top;\n",
       "    }\n",
       "</style>\n",
       "<table border=\"1\" class=\"dataframe\">\n",
       "  <thead>\n",
       "    <tr style=\"text-align: right;\">\n",
       "      <th></th>\n",
       "      <th>country</th>\n",
       "      <th>network</th>\n",
       "      <th>network_id</th>\n",
       "      <th>latitude</th>\n",
       "      <th>longitude</th>\n",
       "      <th>elevation</th>\n",
       "      <th>state</th>\n",
       "      <th>name</th>\n",
       "      <th>gsn_flag</th>\n",
       "      <th>hcn_flag</th>\n",
       "      <th>wm_oid</th>\n",
       "      <th>id</th>\n",
       "    </tr>\n",
       "    <tr>\n",
       "      <th>id</th>\n",
       "      <th></th>\n",
       "      <th></th>\n",
       "      <th></th>\n",
       "      <th></th>\n",
       "      <th></th>\n",
       "      <th></th>\n",
       "      <th></th>\n",
       "      <th></th>\n",
       "      <th></th>\n",
       "      <th></th>\n",
       "      <th></th>\n",
       "      <th></th>\n",
       "    </tr>\n",
       "  </thead>\n",
       "  <tbody>\n",
       "    <tr>\n",
       "      <th>SP000008181</th>\n",
       "      <td>SP</td>\n",
       "      <td>0</td>\n",
       "      <td>00008181</td>\n",
       "      <td>41.2928</td>\n",
       "      <td>2.0697</td>\n",
       "      <td>4.0</td>\n",
       "      <td>NaN</td>\n",
       "      <td>BARCELONA/AEROPUERTO</td>\n",
       "      <td>GSN</td>\n",
       "      <td>NaN</td>\n",
       "      <td>8181</td>\n",
       "      <td>SP000008181</td>\n",
       "    </tr>\n",
       "    <tr>\n",
       "      <th>SPE00119891</th>\n",
       "      <td>SP</td>\n",
       "      <td>E</td>\n",
       "      <td>00119891</td>\n",
       "      <td>41.4192</td>\n",
       "      <td>2.1253</td>\n",
       "      <td>412.0</td>\n",
       "      <td>NaN</td>\n",
       "      <td>BARCELONA</td>\n",
       "      <td>NaN</td>\n",
       "      <td>NaN</td>\n",
       "      <td>NaN</td>\n",
       "      <td>SPE00119891</td>\n",
       "    </tr>\n",
       "  </tbody>\n",
       "</table>\n",
       "</div>"
      ],
      "text/plain": [
       "            country network network_id  latitude  longitude  elevation state  \\\n",
       "id                                                                             \n",
       "SP000008181      SP       0   00008181   41.2928     2.0697        4.0   NaN   \n",
       "SPE00119891      SP       E   00119891   41.4192     2.1253      412.0   NaN   \n",
       "\n",
       "                             name gsn_flag hcn_flag wm_oid           id  \n",
       "id                                                                       \n",
       "SP000008181  BARCELONA/AEROPUERTO      GSN      NaN   8181  SP000008181  \n",
       "SPE00119891             BARCELONA      NaN      NaN    NaN  SPE00119891  "
      ]
     },
     "execution_count": 11,
     "metadata": {},
     "output_type": "execute_result"
    }
   ],
   "source": [
    "st[st.name.str.contains('BARCELONA')]"
   ]
  },
  {
   "cell_type": "code",
   "execution_count": 12,
   "metadata": {},
   "outputs": [
    {
     "name": "stderr",
     "output_type": "stream",
     "text": [
      "/Users/pranavbarot/anaconda/lib/python3.6/site-packages/ulmo/ncdc/ghcn_daily/core.py:89: SettingWithCopyWarning: \n",
      "A value is trying to be set on a copy of a slice from a DataFrame.\n",
      "Try using .loc[row_indexer,col_indexer] = value instead\n",
      "\n",
      "See the caveats in the documentation: http://pandas.pydata.org/pandas-docs/stable/indexing.html#indexing-view-versus-copy\n",
      "  axis=1)\n",
      "/Users/pranavbarot/anaconda/lib/python3.6/site-packages/ulmo/ncdc/ghcn_daily/core.py:95: FutureWarning: \n",
      ".resample() is now a deferred operation\n",
      "You called index(...) on this deferred object which materialized it into a dataframe\n",
      "by implicitly taking the mean.  Use .resample(...).mean() instead\n",
      "  daily_index = element_df.resample('D').index.copy()\n"
     ]
    }
   ],
   "source": [
    "data = ulmo.ncdc.ghcn_daily.get_data('SPE00119891', as_dataframe = True)"
   ]
  },
  {
   "cell_type": "markdown",
   "metadata": {},
   "source": [
    "## TMAX = Maximum daily temperature\n",
    "\n",
    "The actual value in degrees celsius is the Value presented in the table, divided by 10.0"
   ]
  },
  {
   "cell_type": "code",
   "execution_count": 14,
   "metadata": {},
   "outputs": [],
   "source": [
    "daily_max = data['TMAX'].copy()"
   ]
  },
  {
   "cell_type": "code",
   "execution_count": 15,
   "metadata": {},
   "outputs": [
    {
     "data": {
      "text/html": [
       "<div>\n",
       "<style>\n",
       "    .dataframe thead tr:only-child th {\n",
       "        text-align: right;\n",
       "    }\n",
       "\n",
       "    .dataframe thead th {\n",
       "        text-align: left;\n",
       "    }\n",
       "\n",
       "    .dataframe tbody tr th {\n",
       "        vertical-align: top;\n",
       "    }\n",
       "</style>\n",
       "<table border=\"1\" class=\"dataframe\">\n",
       "  <thead>\n",
       "    <tr style=\"text-align: right;\">\n",
       "      <th></th>\n",
       "      <th>value</th>\n",
       "      <th>mflag</th>\n",
       "      <th>qflag</th>\n",
       "      <th>sflag</th>\n",
       "    </tr>\n",
       "    <tr>\n",
       "      <th>month_period</th>\n",
       "      <th></th>\n",
       "      <th></th>\n",
       "      <th></th>\n",
       "      <th></th>\n",
       "    </tr>\n",
       "  </thead>\n",
       "  <tbody>\n",
       "    <tr>\n",
       "      <th>1926-01-01</th>\n",
       "      <td>131</td>\n",
       "      <td>NaN</td>\n",
       "      <td>NaN</td>\n",
       "      <td>E</td>\n",
       "    </tr>\n",
       "    <tr>\n",
       "      <th>1926-01-02</th>\n",
       "      <td>145</td>\n",
       "      <td>NaN</td>\n",
       "      <td>NaN</td>\n",
       "      <td>E</td>\n",
       "    </tr>\n",
       "    <tr>\n",
       "      <th>1926-01-03</th>\n",
       "      <td>102</td>\n",
       "      <td>NaN</td>\n",
       "      <td>NaN</td>\n",
       "      <td>E</td>\n",
       "    </tr>\n",
       "    <tr>\n",
       "      <th>1926-01-04</th>\n",
       "      <td>124</td>\n",
       "      <td>NaN</td>\n",
       "      <td>NaN</td>\n",
       "      <td>E</td>\n",
       "    </tr>\n",
       "    <tr>\n",
       "      <th>1926-01-05</th>\n",
       "      <td>100</td>\n",
       "      <td>NaN</td>\n",
       "      <td>NaN</td>\n",
       "      <td>E</td>\n",
       "    </tr>\n",
       "  </tbody>\n",
       "</table>\n",
       "</div>"
      ],
      "text/plain": [
       "             value mflag qflag sflag\n",
       "month_period                        \n",
       "1926-01-01     131   NaN   NaN     E\n",
       "1926-01-02     145   NaN   NaN     E\n",
       "1926-01-03     102   NaN   NaN     E\n",
       "1926-01-04     124   NaN   NaN     E\n",
       "1926-01-05     100   NaN   NaN     E"
      ]
     },
     "execution_count": 15,
     "metadata": {},
     "output_type": "execute_result"
    }
   ],
   "source": [
    "daily_max.head()"
   ]
  },
  {
   "cell_type": "code",
   "execution_count": 28,
   "metadata": {},
   "outputs": [
    {
     "data": {
      "image/png": "[encoded data removed]",
      "text/plain": [
       "<matplotlib.figure.Figure at 0x113cf30f0>"
      ]
     },
     "metadata": {},
     "output_type": "display_data"
    }
   ],
   "source": [
    "plt.plot(daily_max['value']['1970':'2012'])\n",
    "plt.show()"
   ]
  },
  {
   "cell_type": "markdown",
   "metadata": {},
   "source": [
    "## Means tell us almost nothing about trends, rolling means give more info about trends over time\n",
    "\n",
    "Checking rolling means for each year (window = 365)"
   ]
  },
  {
   "cell_type": "code",
   "execution_count": 35,
   "metadata": {},
   "outputs": [
    {
     "name": "stderr",
     "output_type": "stream",
     "text": [
      "/Users/pranavbarot/anaconda/lib/python3.6/site-packages/ipykernel_launcher.py:1: FutureWarning: pd.rolling_mean is deprecated for Series and will be removed in a future version, replace with \n",
      "\tSeries.rolling(window=365,center=False).mean()\n",
      "  \"\"\"Entry point for launching an IPython kernel.\n"
     ]
    },
    {
     "data": {
      "image/png": "[encoded data removed]",
      "text/plain": [
       "<matplotlib.figure.Figure at 0x113af6a58>"
      ]
     },
     "metadata": {},
     "output_type": "display_data"
    }
   ],
   "source": [
    "pd.rolling_mean(daily_max.value, window=365).plot()\n",
    "plt.show()"
   ]
  },
  {
   "cell_type": "code",
   "execution_count": 39,
   "metadata": {},
   "outputs": [],
   "source": [
    "daily_max.value = daily_max.value.astype('float')"
   ]
  },
  {
   "cell_type": "markdown",
   "metadata": {},
   "source": [
    "## Interesting increase noticed after 1980 or so"
   ]
  },
  {
   "cell_type": "code",
   "execution_count": 44,
   "metadata": {},
   "outputs": [
    {
     "name": "stderr",
     "output_type": "stream",
     "text": [
      "/Users/pranavbarot/anaconda/lib/python3.6/site-packages/ipykernel_launcher.py:1: FutureWarning: \n",
      ".resample() is now a deferred operation\n",
      "You called plot(...) on this deferred object which materialized it into a series\n",
      "by implicitly taking the mean.  Use .resample(...).mean() instead\n",
      "  \"\"\"Entry point for launching an IPython kernel.\n"
     ]
    },
    {
     "data": {
      "image/png": "[encoded data removed]",
      "text/plain": [
       "<matplotlib.figure.Figure at 0x11220b7b8>"
      ]
     },
     "metadata": {},
     "output_type": "display_data"
    }
   ],
   "source": [
    "daily_max['1970':'2012'].value.resample('A').plot()\n",
    "plt.title('Annual Average Maximum Daily Temperature for Barcelona')\n",
    "plt.show()"
   ]
  }
 ],
 "metadata": {
  "kernelspec": {
   "display_name": "Python 3",
   "language": "python",
   "name": "python3"
  },
  "language_info": {
   "codemirror_mode": {
    "name": "ipython",
    "version": 3
   },
   "file_extension": ".py",
   "mimetype": "text/x-python",
   "name": "python",
   "nbconvert_exporter": "python",
   "pygments_lexer": "ipython3",
   "version": "3.6.1"
  }
 },
 "nbformat": 4,
 "nbformat_minor": 2
}
