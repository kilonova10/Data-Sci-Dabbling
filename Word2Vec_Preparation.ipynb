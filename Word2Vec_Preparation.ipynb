{
 "cells": [
  {
   "cell_type": "code",
   "execution_count": 4,
   "metadata": {
    "collapsed": true
   },
   "outputs": [],
   "source": [
    "import pandas as pd\n",
    "import numpy as np\n",
    "import json\n",
    "import tensorflow as tf\n",
    "import pickle\n",
    "\n",
    "from gensim.models import word2vec\n",
    "import gensim, logging\n",
    "logging.basicConfig(format='%(asctime)s : %(levelname)s : %(message)s', level=logging.INFO)\n",
    "\n"
   ]
  },
  {
   "cell_type": "code",
   "execution_count": null,
   "metadata": {
    "collapsed": true
   },
   "outputs": [],
   "source": [
    "transcript = ('/Users/pranavbarot/Desktop/DataSci/Pranav%2FAll_tasks.json')"
   ]
  },
  {
   "cell_type": "code",
   "execution_count": null,
   "metadata": {
    "collapsed": true
   },
   "outputs": [],
   "source": [
    "transcript_df = pd.read_json(transcript, lines=True, encoding='utf8')"
   ]
  },
  {
   "cell_type": "code",
   "execution_count": null,
   "metadata": {
    "collapsed": true
   },
   "outputs": [],
   "source": [
    "transcript_df"
   ]
  },
  {
   "cell_type": "code",
   "execution_count": null,
   "metadata": {
    "collapsed": true
   },
   "outputs": [],
   "source": [
    "account_file = ('/Users/pranavbarot/Desktop/DataSci/Find_Accounts.json')"
   ]
  },
  {
   "cell_type": "code",
   "execution_count": null,
   "metadata": {
    "collapsed": true
   },
   "outputs": [],
   "source": [
    "account_df = pd.read_json(account_file, lines=True, encoding='utf8')"
   ]
  },
  {
   "cell_type": "code",
   "execution_count": null,
   "metadata": {
    "collapsed": true
   },
   "outputs": [],
   "source": [
    "task_list = []\n",
    "for task in account_df['Task_ID']:\n",
    "    task_list.append(task)"
   ]
  },
  {
   "cell_type": "code",
   "execution_count": null,
   "metadata": {
    "collapsed": true
   },
   "outputs": [],
   "source": [
    "for task in task_list:\n",
    "    print str(task)"
   ]
  },
  {
   "cell_type": "code",
   "execution_count": null,
   "metadata": {
    "collapsed": true
   },
   "outputs": [],
   "source": [
    "grouped = transcript_df.groupby(\"Task_AccountId\")"
   ]
  },
  {
   "cell_type": "code",
   "execution_count": null,
   "metadata": {
    "collapsed": true
   },
   "outputs": [],
   "source": [
    "second_dates = []\n",
    "first_dates = []\n",
    "call_ids = []\n",
    "for num, task in enumerate(transcript_df['Task_ID']):\n",
    "    if task in task_list:\n",
    "        follow_up =  transcript_df['Task_ID'][num+1]\n",
    "        follow_up_time = transcript_df['Task_LastModifiedDate'][num+1]\n",
    "        first_time = transcript_df['Task_LastModifiedDate'][num]\n",
    "        \n",
    "        \n",
    "        second_dates.append(follow_up_time)\n",
    "        first_dates.append(first_time)\n",
    "        \n",
    "        \n",
    "second_dates        \n",
    "            "
   ]
  },
  {
   "cell_type": "code",
   "execution_count": null,
   "metadata": {
    "collapsed": true
   },
   "outputs": [],
   "source": [
    "len(second_dates)"
   ]
  },
  {
   "cell_type": "code",
   "execution_count": null,
   "metadata": {
    "collapsed": true
   },
   "outputs": [],
   "source": [
    "prediction_df = pd.DataFrame(list(zip(task_list, second_dates, first_dates)), columns = ['Task_ID', 'Follow up Time', 'Call Timestamp'])\n",
    "prediction_df"
   ]
  },
  {
   "cell_type": "code",
   "execution_count": null,
   "metadata": {
    "collapsed": true
   },
   "outputs": [],
   "source": [
    "join_file = ('/Users/pranavbarot/Desktop/DataSci/Pranav%2FTasks_and_call_ids.json')\n",
    "join_df = pd.read_json(join_file, lines=True, encoding = 'utf8')\n",
    "join_df"
   ]
  },
  {
   "cell_type": "code",
   "execution_count": null,
   "metadata": {
    "collapsed": true
   },
   "outputs": [],
   "source": [
    "joined = prediction_df.set_index('Task_ID').join(join_df.set_index('task_id'), how='inner')"
   ]
  },
  {
   "cell_type": "code",
   "execution_count": null,
   "metadata": {
    "collapsed": true
   },
   "outputs": [],
   "source": [
    "joined.reset_index(inplace = True)"
   ]
  },
  {
   "cell_type": "code",
   "execution_count": null,
   "metadata": {
    "collapsed": true
   },
   "outputs": [],
   "source": [
    "joined"
   ]
  },
  {
   "cell_type": "code",
   "execution_count": null,
   "metadata": {
    "collapsed": true
   },
   "outputs": [],
   "source": [
    "joined.rename(columns={'index':'Task_ID'}, inplace=True)"
   ]
  },
  {
   "cell_type": "code",
   "execution_count": null,
   "metadata": {
    "collapsed": true
   },
   "outputs": [],
   "source": [
    "joined_task_ids = set(joined['Task_ID'])"
   ]
  },
  {
   "cell_type": "code",
   "execution_count": null,
   "metadata": {
    "collapsed": true
   },
   "outputs": [],
   "source": [
    "joined_task_ids"
   ]
  },
  {
   "cell_type": "code",
   "execution_count": null,
   "metadata": {
    "collapsed": true
   },
   "outputs": [],
   "source": [
    "pred_task_ids = set(prediction_df['Task_ID'])\n",
    "pred_task_ids"
   ]
  },
  {
   "cell_type": "code",
   "execution_count": null,
   "metadata": {
    "collapsed": true
   },
   "outputs": [],
   "source": [
    "set(pred_task_ids) == set(joined_task_ids)"
   ]
  },
  {
   "cell_type": "code",
   "execution_count": null,
   "metadata": {
    "collapsed": true
   },
   "outputs": [],
   "source": [
    "joined_taskcall_only = joined[['Task_ID', 'Follow up Time', 'call_id']]\n",
    "joined_taskcall_only"
   ]
  },
  {
   "cell_type": "code",
   "execution_count": null,
   "metadata": {
    "collapsed": true
   },
   "outputs": [],
   "source": [
    "bad_words = []\n",
    "\n",
    "def filter_callside(transcript):\n",
    "    \"\"\"\n",
    "    Filters the call side to filter our Manager Calls\n",
    "    when loading the JSON dictionaries in the 'make_features' function\n",
    "\n",
    "    Args:\n",
    "        Param1 (dict) : Transcript Dictionary\n",
    "\n",
    "    Returns:\n",
    "        Bool (True if the call_side is either caller or callee)\n",
    "\n",
    "    \"\"\"\n",
    "    return (transcript['call_side'] == 'caller' or transcript['call_side'] == 'callee')\n",
    "\n",
    "\n",
    "def taste_to_text(taste):\n",
    "    \"\"\"\n",
    "    converts the taste fiels from Transcripts into a string by joining them\n",
    "\n",
    "    \"\"\"\n",
    "    return ' '.join([t['raw'] for t in taste if t['raw'] not in bad_words])\n",
    "\n",
    "\n",
    "def make_features(filename, filter_callside):\n",
    "    \"\"\"\"\n",
    "    This functions takes in the JSON file and the filter callside function\n",
    "    and returns a list of dictionaries with Text of the conversations\n",
    "    along with dial_id\n",
    "\n",
    "    \"\"\"\n",
    "    transcripts = []\n",
    "    with open(filename, 'r') as f:\n",
    "\n",
    "        for line in f.readlines():\n",
    "            transcript = json.loads(line)\n",
    "\n",
    "            if filter_callside(transcript):\n",
    "                transcript['text'] = taste_to_text(transcript['taste'])\n",
    "                del transcript['taste']\n",
    "\n",
    "                transcripts.append(transcript)\n",
    "\n",
    "    return transcripts\n",
    "\n"
   ]
  },
  {
   "cell_type": "code",
   "execution_count": null,
   "metadata": {
    "collapsed": true
   },
   "outputs": [],
   "source": [
    "number_of_files = 10\n",
    "f = '/Users/pranavbarot/Desktop/zenreach_transcripts/Pranav%2Ftranscripts_zenreach%2Fzenreach_transcripts_{}.json'\n",
    "filenames = [f.format(i) for i in range(number_of_files)]\n",
    "\n",
    "conv_features = []\n",
    "  \n",
    "for files in filenames:\n",
    "\n",
    "    conv_features.extend(make_features(files, filter_callside))\n",
    "    print (\"File Processed: \", files)\n",
    "\n",
    "features_df = pd.DataFrame(conv_features)"
   ]
  },
  {
   "cell_type": "code",
   "execution_count": null,
   "metadata": {
    "collapsed": true
   },
   "outputs": [],
   "source": [
    "cols = ['call_id','call_side']\n"
   ]
  },
  {
   "cell_type": "code",
   "execution_count": null,
   "metadata": {
    "collapsed": true
   },
   "outputs": [],
   "source": [
    "grouped_features_df = features_df[['call_id','call_side','created','duration','text']].groupby(cols).max().reset_index(drop = False)\n",
    "grouped_features_df"
   ]
  },
  {
   "cell_type": "code",
   "execution_count": null,
   "metadata": {
    "collapsed": true
   },
   "outputs": [],
   "source": [
    "matching_features_df = grouped_features_df.set_index('call_id').join(joined_taskcall_only.set_index('call_id'), how='inner').reset_index(drop = False)\n",
    "\n",
    "matching_features_df"
   ]
  },
  {
   "cell_type": "code",
   "execution_count": null,
   "metadata": {
    "collapsed": true
   },
   "outputs": [],
   "source": [
    "position_values = pd.read_csv('/Users/pranavbarot/Desktop/DataSci/position_values.csv')\n",
    "position_values"
   ]
  },
  {
   "cell_type": "code",
   "execution_count": null,
   "metadata": {
    "collapsed": true
   },
   "outputs": [],
   "source": [
    "features_with_position = matching_features_df.set_index('call_id').join(position_values.set_index('call_id'), how = 'inner').reset_index(drop=False)\n",
    "words = features_with_position['words']"
   ]
  },
  {
   "cell_type": "code",
   "execution_count": null,
   "metadata": {
    "collapsed": true
   },
   "outputs": [],
   "source": [
    "features_with_position= features_with_position[['call_id','call_side','text','created','Follow up Time','position_start','position_end']]\n",
    "features_with_position['words']=words\n",
    "features_with_position\n"
   ]
  },
  {
   "cell_type": "code",
   "execution_count": null,
   "metadata": {
    "collapsed": true
   },
   "outputs": [],
   "source": [
    "features_with_position['text_list'] = features_with_position['text'].apply(lambda x: x.split())"
   ]
  },
  {
   "cell_type": "code",
   "execution_count": null,
   "metadata": {
    "collapsed": true
   },
   "outputs": [],
   "source": [
    "features_with_position"
   ]
  },
  {
   "cell_type": "code",
   "execution_count": null,
   "metadata": {
    "collapsed": true
   },
   "outputs": [],
   "source": [
    "x = features_with_position[features_with_position['call_side'] == 'caller'].reset_index(drop=False)\n",
    "x"
   ]
  },
  {
   "cell_type": "code",
   "execution_count": null,
   "metadata": {
    "collapsed": true
   },
   "outputs": [],
   "source": [
    "def get_text(row):\n",
    "    return row['text_list'][row['position_start']-4:row['position_end']+4]"
   ]
  },
  {
   "cell_type": "code",
   "execution_count": null,
   "metadata": {
    "collapsed": true
   },
   "outputs": [],
   "source": [
    "def text_window(dataframe):\n",
    "    new_text = dataframe.apply(lambda row: get_text(row), axis=1)\n",
    "    return new_text"
   ]
  },
  {
   "cell_type": "code",
   "execution_count": null,
   "metadata": {
    "collapsed": true
   },
   "outputs": [],
   "source": [
    "text_window(x)"
   ]
  },
  {
   "cell_type": "code",
   "execution_count": null,
   "metadata": {
    "collapsed": true
   },
   "outputs": [],
   "source": [
    "x['text window'] = text_window(x)\n",
    "x"
   ]
  },
  {
   "cell_type": "code",
   "execution_count": null,
   "metadata": {
    "collapsed": true
   },
   "outputs": [],
   "source": [
    "final_training_df = x[['call_id', 'text window', 'Follow up Time']]\n",
    "final_training_df"
   ]
  },
  {
   "cell_type": "code",
   "execution_count": null,
   "metadata": {
    "collapsed": true
   },
   "outputs": [],
   "source": [
    "final_training_df.to_pickle('/Users/pranavbarot/Desktop/DataSci/cnn_training_data.p')"
   ]
  },
  {
   "cell_type": "code",
   "execution_count": null,
   "metadata": {
    "collapsed": true
   },
   "outputs": [],
   "source": [
    "text = final_training_df['text window']\n",
    "text"
   ]
  },
  {
   "cell_type": "code",
   "execution_count": 3,
   "metadata": {},
   "outputs": [
    {
     "data": {
      "text/html": [
       "<div>\n",
       "<table border=\"1\" class=\"dataframe\">\n",
       "  <thead>\n",
       "    <tr style=\"text-align: right;\">\n",
       "      <th></th>\n",
       "      <th>call_id</th>\n",
       "      <th>text window</th>\n",
       "      <th>Follow up Time</th>\n",
       "    </tr>\n",
       "  </thead>\n",
       "  <tbody>\n",
       "    <tr>\n",
       "      <th>0</th>\n",
       "      <td>0001e4e4-f332-1235-06b0-0cc47a392728</td>\n",
       "      <td>[a, call, uh, next, thursday, around, the, sam...</td>\n",
       "      <td>2017-08-10 21:06:22 UTC</td>\n",
       "    </tr>\n",
       "    <tr>\n",
       "      <th>1</th>\n",
       "      <td>00062059-e5a4-1235-06b0-0cc47a392728</td>\n",
       "      <td>[just, text, this, number, monday, morning, an...</td>\n",
       "      <td>2017-07-17 15:03:56 UTC</td>\n",
       "    </tr>\n",
       "    <tr>\n",
       "      <th>2</th>\n",
       "      <td>000a56a6-c63c-1235-06b0-0cc47a392728</td>\n",
       "      <td>[[noise], [noise], [noise], [noise], six, o'cl...</td>\n",
       "      <td>2017-06-08 15:26:20 UTC</td>\n",
       "    </tr>\n",
       "    <tr>\n",
       "      <th>3</th>\n",
       "      <td>0014f782-fec4-1235-06b0-0cc47a392728</td>\n",
       "      <td>[hi, thanks, i'm, great, friday, right, [noise]]</td>\n",
       "      <td>2017-08-23 14:31:35 UTC</td>\n",
       "    </tr>\n",
       "    <tr>\n",
       "      <th>4</th>\n",
       "      <td>002041b8-f3fb-1235-06b0-0cc47a392728</td>\n",
       "      <td>[tuesday, will, figure, out, a, time, okay, ma...</td>\n",
       "      <td>2017-08-10 21:31:30 UTC</td>\n",
       "    </tr>\n",
       "    <tr>\n",
       "      <th>5</th>\n",
       "      <td>002a33b2-f894-1235-06b0-0cc47a392728</td>\n",
       "      <td>[talk, on, monday, at, one, thirty, i'm, looki...</td>\n",
       "      <td>2017-08-14 18:37:27 UTC</td>\n",
       "    </tr>\n",
       "    <tr>\n",
       "      <th>6</th>\n",
       "      <td>00302ae1-f3ed-1235-06b0-0cc47a392728</td>\n",
       "      <td>[with, that, being, a, friday, [noise], [noise...</td>\n",
       "      <td>2017-08-07 20:13:13 UTC</td>\n",
       "    </tr>\n",
       "    <tr>\n",
       "      <th>7</th>\n",
       "      <td>00303564-fc8f-1235-06b0-0cc47a392728</td>\n",
       "      <td>[and, then, yeah, next, tuesday, i, know, you,...</td>\n",
       "      <td>2017-08-22 19:02:08 UTC</td>\n",
       "    </tr>\n",
       "    <tr>\n",
       "      <th>8</th>\n",
       "      <td>00349fba-fd60-1235-06b0-0cc47a392728</td>\n",
       "      <td>[back, out, wednesday, after, two, [noise], [n...</td>\n",
       "      <td>2017-08-24 18:14:02 UTC</td>\n",
       "    </tr>\n",
       "    <tr>\n",
       "      <th>9</th>\n",
       "      <td>0037ecba-dc51-1235-06b0-0cc47a392728</td>\n",
       "      <td>[i'll, probably, around, like, eleven, tomorro...</td>\n",
       "      <td>2017-07-06 20:15:08 UTC</td>\n",
       "    </tr>\n",
       "    <tr>\n",
       "      <th>10</th>\n",
       "      <td>0039d132-b5ee-1235-06b0-0cc47a392728</td>\n",
       "      <td>[catch, her, around, five, five, o'clock, p.m....</td>\n",
       "      <td>2017-05-18 22:18:47 UTC</td>\n",
       "    </tr>\n",
       "    <tr>\n",
       "      <th>11</th>\n",
       "      <td>003ab6b5-09ff-1236-06b0-0cc47a392728</td>\n",
       "      <td>[point, maybe, tuesday, or, wednesday, um, jus...</td>\n",
       "      <td>2017-09-01 21:37:08 UTC</td>\n",
       "    </tr>\n",
       "    <tr>\n",
       "      <th>12</th>\n",
       "      <td>004776ce-cd59-1235-06b0-0cc47a392728</td>\n",
       "      <td>[[noise], [noise], two, and, three, o'clock, o...</td>\n",
       "      <td>2017-06-19 21:24:45 UTC</td>\n",
       "    </tr>\n",
       "    <tr>\n",
       "      <th>13</th>\n",
       "      <td>00479446-94dd-11e7-8981-b187703cdd9f</td>\n",
       "      <td>[[noise], best, time, on, monday, okay, and, u...</td>\n",
       "      <td>2017-09-11 21:23:01 UTC</td>\n",
       "    </tr>\n",
       "    <tr>\n",
       "      <th>14</th>\n",
       "      <td>004c7218-e2bf-1235-06b0-0cc47a392728</td>\n",
       "      <td>[thursday, around, three, awesome, well, thank...</td>\n",
       "      <td>2017-07-20 22:01:04 UTC</td>\n",
       "    </tr>\n",
       "    <tr>\n",
       "      <th>15</th>\n",
       "      <td>0050471f-ca4f-1235-06b0-0cc47a392728</td>\n",
       "      <td>[but, now, it's, on, thursday, so, i, said, yes]</td>\n",
       "      <td>2017-06-13 15:24:08 UTC</td>\n",
       "    </tr>\n",
       "    <tr>\n",
       "      <th>16</th>\n",
       "      <td>00544d7d-c739-1235-06b0-0cc47a392728</td>\n",
       "      <td>[on, monday, work, [laughter], monday, [noise]...</td>\n",
       "      <td>2017-06-09 00:00:07 UTC</td>\n",
       "    </tr>\n",
       "    <tr>\n",
       "      <th>17</th>\n",
       "      <td>00589c3f-b74d-1235-06b0-0cc47a392728</td>\n",
       "      <td>[[noise], [noise], [noise], okay, monday, okay...</td>\n",
       "      <td>2017-08-10 18:52:34 UTC</td>\n",
       "    </tr>\n",
       "    <tr>\n",
       "      <th>18</th>\n",
       "      <td>005a6a6f-fe34-1235-06b0-0cc47a392728</td>\n",
       "      <td>[a, call, tomorrow, at, one, o'clock, i, alrig...</td>\n",
       "      <td>2017-08-18 17:07:45 UTC</td>\n",
       "    </tr>\n",
       "    <tr>\n",
       "      <th>19</th>\n",
       "      <td>006382c4-ca54-1235-06b0-0cc47a392728</td>\n",
       "      <td>[minutes, maybe, tomorrow, or, wednesday, reco...</td>\n",
       "      <td>2017-06-13 21:55:19 UTC</td>\n",
       "    </tr>\n",
       "    <tr>\n",
       "      <th>20</th>\n",
       "      <td>00648084-e36a-1235-06b0-0cc47a392728</td>\n",
       "      <td>[[noise], yeah, yes, carter, one, today, [nois...</td>\n",
       "      <td>2017-07-21 20:26:41 UTC</td>\n",
       "    </tr>\n",
       "    <tr>\n",
       "      <th>21</th>\n",
       "      <td>0068bfa9-f7d4-1235-06b0-0cc47a392728</td>\n",
       "      <td>[[noise], [noise], tuesday, okay, cause, you, ...</td>\n",
       "      <td>2016-08-31 16:40:25 UTC</td>\n",
       "    </tr>\n",
       "    <tr>\n",
       "      <th>22</th>\n",
       "      <td>00691cb8-9cb9-11e7-80e7-b187703cdd9f</td>\n",
       "      <td>[talked, talk, to, next, monday, but, [noise]]</td>\n",
       "      <td>2017-08-25 00:32:36 UTC</td>\n",
       "    </tr>\n",
       "    <tr>\n",
       "      <th>23</th>\n",
       "      <td>006fed35-fd3f-1235-06b0-0cc47a392728</td>\n",
       "      <td>[you, a, call, at, eleven, tomorrow, okay, sou...</td>\n",
       "      <td>2017-08-17 17:01:18 UTC</td>\n",
       "    </tr>\n",
       "    <tr>\n",
       "      <th>24</th>\n",
       "      <td>00717917-8430-1235-06b0-0cc47a392728</td>\n",
       "      <td>[cargo, [noise], [noise], [noise], [noise], [n...</td>\n",
       "      <td>2017-06-02 20:27:40 UTC</td>\n",
       "    </tr>\n",
       "    <tr>\n",
       "      <th>25</th>\n",
       "      <td>00736f6f-fbc5-1235-06b0-0cc47a392728</td>\n",
       "      <td>[on, thursday, you'll, have, you'll, we, live,...</td>\n",
       "      <td>2017-08-17 21:04:09 UTC</td>\n",
       "    </tr>\n",
       "    <tr>\n",
       "      <th>26</th>\n",
       "      <td>0074b7db-b432-1235-06b0-0cc47a392728</td>\n",
       "      <td>[is, he, okay, on, thursday, okay, i, do, you]</td>\n",
       "      <td>2017-05-18 16:07:11 UTC</td>\n",
       "    </tr>\n",
       "    <tr>\n",
       "      <th>27</th>\n",
       "      <td>0079d0ad-f960-1235-06b0-0cc47a392728</td>\n",
       "      <td>[today, i, can, try, monday, [noise], [noise],...</td>\n",
       "      <td>2017-08-11 17:37:32 UTC</td>\n",
       "    </tr>\n",
       "    <tr>\n",
       "      <th>28</th>\n",
       "      <td>00851cbc-f0ba-1235-06b0-0cc47a392728</td>\n",
       "      <td>[[noise], [noise], [noise], [noise], two, o'cl...</td>\n",
       "      <td>2017-07-31 20:46:05 UTC</td>\n",
       "    </tr>\n",
       "    <tr>\n",
       "      <th>29</th>\n",
       "      <td>00885624-d2f3-1235-06b0-0cc47a392728</td>\n",
       "      <td>[well, hey, back, in, monday, [noise], [noise]...</td>\n",
       "      <td>2017-06-26 17:18:47 UTC</td>\n",
       "    </tr>\n",
       "    <tr>\n",
       "      <th>...</th>\n",
       "      <td>...</td>\n",
       "      <td>...</td>\n",
       "      <td>...</td>\n",
       "    </tr>\n",
       "    <tr>\n",
       "      <th>13231</th>\n",
       "      <td>ff3ada53-f342-1235-06b0-0cc47a392728</td>\n",
       "      <td>[to, eight, thirty, on, monday, uh, if, you, r...</td>\n",
       "      <td>2017-08-22 17:59:57 UTC</td>\n",
       "    </tr>\n",
       "    <tr>\n",
       "      <th>13232</th>\n",
       "      <td>ff4737a6-9a66-11e7-aab2-b187703cdd9f</td>\n",
       "      <td>[son, i'm, sorry, i, sunday, monday, and, then...</td>\n",
       "      <td>2017-06-26 15:07:12 UTC</td>\n",
       "    </tr>\n",
       "    <tr>\n",
       "      <th>13233</th>\n",
       "      <td>ff4b381a-ca3f-1235-06b0-0cc47a392728</td>\n",
       "      <td>[after, eleven, thirty, on, monday, june, elev...</td>\n",
       "      <td>2017-06-12 23:12:29 UTC</td>\n",
       "    </tr>\n",
       "    <tr>\n",
       "      <th>13234</th>\n",
       "      <td>ff4dab77-ec01-1235-06b0-0cc47a392728</td>\n",
       "      <td>[talk, to, you, on, friday, then, and, we'll, ...</td>\n",
       "      <td>2017-07-28 17:34:13 UTC</td>\n",
       "    </tr>\n",
       "    <tr>\n",
       "      <th>13235</th>\n",
       "      <td>ff5540dd-f8b4-1235-06b0-0cc47a392728</td>\n",
       "      <td>[on, one, o'clock, on, tuesday, and, we, will,...</td>\n",
       "      <td>2017-08-15 20:51:09 UTC</td>\n",
       "    </tr>\n",
       "    <tr>\n",
       "      <th>13236</th>\n",
       "      <td>ff5d613c-ee67-1235-06b0-0cc47a392728</td>\n",
       "      <td>[great, rest, of, your, friday, [noise], [nois...</td>\n",
       "      <td>2017-09-18 18:44:09 UTC</td>\n",
       "    </tr>\n",
       "    <tr>\n",
       "      <th>13237</th>\n",
       "      <td>ff60fa92-988b-11e7-9e37-b187703cdd9f</td>\n",
       "      <td>[works, for, you, next, tuesday, the, nineteen...</td>\n",
       "      <td>2017-09-18 17:04:52 UTC</td>\n",
       "    </tr>\n",
       "    <tr>\n",
       "      <th>13238</th>\n",
       "      <td>ff61dc34-941a-11e7-84e8-b187703cdd9f</td>\n",
       "      <td>[weekend, all, like, your, monday, hi, [noise]]</td>\n",
       "      <td>2017-09-11 19:00:06 UTC</td>\n",
       "    </tr>\n",
       "    <tr>\n",
       "      <th>13239</th>\n",
       "      <td>ff626a1b-b447-1235-06b0-0cc47a392728</td>\n",
       "      <td>[uh, what, time, tomorrow, wednesday, all, rig...</td>\n",
       "      <td>2017-05-17 20:00:00 UTC</td>\n",
       "    </tr>\n",
       "    <tr>\n",
       "      <th>13240</th>\n",
       "      <td>ff640afb-bfec-1235-06b0-0cc47a392728</td>\n",
       "      <td>[call, back, with, one, two, o'clock, sure, ok...</td>\n",
       "      <td>2017-05-31 15:09:28 UTC</td>\n",
       "    </tr>\n",
       "    <tr>\n",
       "      <th>13241</th>\n",
       "      <td>ff69aa66-fefa-1235-06b0-0cc47a392728</td>\n",
       "      <td>[that, you, liked, on, thursday, [noise], [noi...</td>\n",
       "      <td>2017-08-31 20:27:15 UTC</td>\n",
       "    </tr>\n",
       "    <tr>\n",
       "      <th>13242</th>\n",
       "      <td>ff6eef02-dc67-1235-06b0-0cc47a392728</td>\n",
       "      <td>[thirty, on, friday, and, we'll, get, you, set...</td>\n",
       "      <td>2017-07-07 18:36:01 UTC</td>\n",
       "    </tr>\n",
       "    <tr>\n",
       "      <th>13243</th>\n",
       "      <td>ff80801e-9990-11e7-b88e-b187703cdd9f</td>\n",
       "      <td>[usually, up, till, about, two, am, doing, hom...</td>\n",
       "      <td>2017-09-14 23:04:42 UTC</td>\n",
       "    </tr>\n",
       "    <tr>\n",
       "      <th>13244</th>\n",
       "      <td>ff84cd9a-ddfa-1235-06b0-0cc47a392728</td>\n",
       "      <td>[you, a, call, a, wednesday, to, uh, yeah, i]</td>\n",
       "      <td>2017-07-12 18:00:55 UTC</td>\n",
       "    </tr>\n",
       "    <tr>\n",
       "      <th>13245</th>\n",
       "      <td>ff855a18-9a34-11e7-bac2-b187703cdd9f</td>\n",
       "      <td>[to, go, through, on, sunday, um, we, have, ev...</td>\n",
       "      <td>2017-07-31 20:31:37 UTC</td>\n",
       "    </tr>\n",
       "    <tr>\n",
       "      <th>13246</th>\n",
       "      <td>ff90a79c-c18d-1235-06b0-0cc47a392728</td>\n",
       "      <td>[better, for, you, [noise], one, o'clock, okay...</td>\n",
       "      <td>2017-06-01 18:01:30 UTC</td>\n",
       "    </tr>\n",
       "    <tr>\n",
       "      <th>13247</th>\n",
       "      <td>ff97c1e3-0d33-1236-06b0-0cc47a392728</td>\n",
       "      <td>[i, will, call, on, thursday, thank, you, so, ...</td>\n",
       "      <td>2017-09-06 20:47:53 UTC</td>\n",
       "    </tr>\n",
       "    <tr>\n",
       "      <th>13248</th>\n",
       "      <td>ff983add-eb5f-1235-06b0-0cc47a392728</td>\n",
       "      <td>[a, call, on, thursday, alright, [noise], hi, ...</td>\n",
       "      <td>2017-07-27 19:03:02 UTC</td>\n",
       "    </tr>\n",
       "    <tr>\n",
       "      <th>13249</th>\n",
       "      <td>ff9a5744-8450-1235-06b0-0cc47a392728</td>\n",
       "      <td>[i, will, call, you, friday, at, ten, thirty, ...</td>\n",
       "      <td>2017-03-17 14:30:01 UTC</td>\n",
       "    </tr>\n",
       "    <tr>\n",
       "      <th>13250</th>\n",
       "      <td>ff9dcc6d-ec0b-1235-06b0-0cc47a392728</td>\n",
       "      <td>[i'll, call, you, on, friday, right, [noise], ...</td>\n",
       "      <td>2016-08-23 18:59:20 UTC</td>\n",
       "    </tr>\n",
       "    <tr>\n",
       "      <th>13251</th>\n",
       "      <td>ff9e765d-e763-1235-06b0-0cc47a392728</td>\n",
       "      <td>[for, me, tuesday, two, thirty, uh, you, guys,...</td>\n",
       "      <td>2017-07-25 20:40:07 UTC</td>\n",
       "    </tr>\n",
       "    <tr>\n",
       "      <th>13252</th>\n",
       "      <td>ffa00f07-d305-1235-06b0-0cc47a392728</td>\n",
       "      <td>[schedule, yourself, them, happy, friday, let,...</td>\n",
       "      <td>2017-07-19 16:41:20 UTC</td>\n",
       "    </tr>\n",
       "    <tr>\n",
       "      <th>13253</th>\n",
       "      <td>ffa38010-f656-1235-06b0-0cc47a392728</td>\n",
       "      <td>[up, with, you, wednesday, alrighty, thanks, [...</td>\n",
       "      <td>2017-08-09 20:33:12 UTC</td>\n",
       "    </tr>\n",
       "    <tr>\n",
       "      <th>13254</th>\n",
       "      <td>ffb9ce70-b5b7-1235-06b0-0cc47a392728</td>\n",
       "      <td>[[noise], oh, i, thought, thursday, he'll, be,...</td>\n",
       "      <td>2017-05-17 15:27:29 UTC</td>\n",
       "    </tr>\n",
       "    <tr>\n",
       "      <th>13255</th>\n",
       "      <td>ffb9ce70-b5b7-1235-06b0-0cc47a392728</td>\n",
       "      <td>[[noise], oh, i, thought, thursday, he'll, be,...</td>\n",
       "      <td>2017-05-18 15:13:11 UTC</td>\n",
       "    </tr>\n",
       "    <tr>\n",
       "      <th>13256</th>\n",
       "      <td>ffc7fe86-fc9c-1235-06b0-0cc47a392728</td>\n",
       "      <td>[call, from, this, number, thursday, at, one, ...</td>\n",
       "      <td>2017-08-17 19:04:42 UTC</td>\n",
       "    </tr>\n",
       "    <tr>\n",
       "      <th>13257</th>\n",
       "      <td>ffd63c31-c6fc-1235-06b0-0cc47a392728</td>\n",
       "      <td>[call, back, in, like, three, o'clock, after, ...</td>\n",
       "      <td>2017-06-12 18:04:36 UTC</td>\n",
       "    </tr>\n",
       "    <tr>\n",
       "      <th>13258</th>\n",
       "      <td>ffe8e77c-0ab8-1236-06b0-0cc47a392728</td>\n",
       "      <td>[give, you, a, call, monday, thanks, [noise], ...</td>\n",
       "      <td>2017-09-05 19:04:12 UTC</td>\n",
       "    </tr>\n",
       "    <tr>\n",
       "      <th>13259</th>\n",
       "      <td>ffec9a3f-d7b6-1235-06b0-0cc47a392728</td>\n",
       "      <td>[to, like, it's, almost, five, o'clock, over, ...</td>\n",
       "      <td>2017-06-30 18:14:52 UTC</td>\n",
       "    </tr>\n",
       "    <tr>\n",
       "      <th>13260</th>\n",
       "      <td>fff0cf48-e8ce-1235-06b0-0cc47a392728</td>\n",
       "      <td>[email, from, you, by, monday, i, don't, have, a]</td>\n",
       "      <td>2017-07-24 16:05:15 UTC</td>\n",
       "    </tr>\n",
       "  </tbody>\n",
       "</table>\n",
       "<p>13261 rows × 3 columns</p>\n",
       "</div>"
      ],
      "text/plain": [
       "                                    call_id  \\\n",
       "0      0001e4e4-f332-1235-06b0-0cc47a392728   \n",
       "1      00062059-e5a4-1235-06b0-0cc47a392728   \n",
       "2      000a56a6-c63c-1235-06b0-0cc47a392728   \n",
       "3      0014f782-fec4-1235-06b0-0cc47a392728   \n",
       "4      002041b8-f3fb-1235-06b0-0cc47a392728   \n",
       "5      002a33b2-f894-1235-06b0-0cc47a392728   \n",
       "6      00302ae1-f3ed-1235-06b0-0cc47a392728   \n",
       "7      00303564-fc8f-1235-06b0-0cc47a392728   \n",
       "8      00349fba-fd60-1235-06b0-0cc47a392728   \n",
       "9      0037ecba-dc51-1235-06b0-0cc47a392728   \n",
       "10     0039d132-b5ee-1235-06b0-0cc47a392728   \n",
       "11     003ab6b5-09ff-1236-06b0-0cc47a392728   \n",
       "12     004776ce-cd59-1235-06b0-0cc47a392728   \n",
       "13     00479446-94dd-11e7-8981-b187703cdd9f   \n",
       "14     004c7218-e2bf-1235-06b0-0cc47a392728   \n",
       "15     0050471f-ca4f-1235-06b0-0cc47a392728   \n",
       "16     00544d7d-c739-1235-06b0-0cc47a392728   \n",
       "17     00589c3f-b74d-1235-06b0-0cc47a392728   \n",
       "18     005a6a6f-fe34-1235-06b0-0cc47a392728   \n",
       "19     006382c4-ca54-1235-06b0-0cc47a392728   \n",
       "20     00648084-e36a-1235-06b0-0cc47a392728   \n",
       "21     0068bfa9-f7d4-1235-06b0-0cc47a392728   \n",
       "22     00691cb8-9cb9-11e7-80e7-b187703cdd9f   \n",
       "23     006fed35-fd3f-1235-06b0-0cc47a392728   \n",
       "24     00717917-8430-1235-06b0-0cc47a392728   \n",
       "25     00736f6f-fbc5-1235-06b0-0cc47a392728   \n",
       "26     0074b7db-b432-1235-06b0-0cc47a392728   \n",
       "27     0079d0ad-f960-1235-06b0-0cc47a392728   \n",
       "28     00851cbc-f0ba-1235-06b0-0cc47a392728   \n",
       "29     00885624-d2f3-1235-06b0-0cc47a392728   \n",
       "...                                     ...   \n",
       "13231  ff3ada53-f342-1235-06b0-0cc47a392728   \n",
       "13232  ff4737a6-9a66-11e7-aab2-b187703cdd9f   \n",
       "13233  ff4b381a-ca3f-1235-06b0-0cc47a392728   \n",
       "13234  ff4dab77-ec01-1235-06b0-0cc47a392728   \n",
       "13235  ff5540dd-f8b4-1235-06b0-0cc47a392728   \n",
       "13236  ff5d613c-ee67-1235-06b0-0cc47a392728   \n",
       "13237  ff60fa92-988b-11e7-9e37-b187703cdd9f   \n",
       "13238  ff61dc34-941a-11e7-84e8-b187703cdd9f   \n",
       "13239  ff626a1b-b447-1235-06b0-0cc47a392728   \n",
       "13240  ff640afb-bfec-1235-06b0-0cc47a392728   \n",
       "13241  ff69aa66-fefa-1235-06b0-0cc47a392728   \n",
       "13242  ff6eef02-dc67-1235-06b0-0cc47a392728   \n",
       "13243  ff80801e-9990-11e7-b88e-b187703cdd9f   \n",
       "13244  ff84cd9a-ddfa-1235-06b0-0cc47a392728   \n",
       "13245  ff855a18-9a34-11e7-bac2-b187703cdd9f   \n",
       "13246  ff90a79c-c18d-1235-06b0-0cc47a392728   \n",
       "13247  ff97c1e3-0d33-1236-06b0-0cc47a392728   \n",
       "13248  ff983add-eb5f-1235-06b0-0cc47a392728   \n",
       "13249  ff9a5744-8450-1235-06b0-0cc47a392728   \n",
       "13250  ff9dcc6d-ec0b-1235-06b0-0cc47a392728   \n",
       "13251  ff9e765d-e763-1235-06b0-0cc47a392728   \n",
       "13252  ffa00f07-d305-1235-06b0-0cc47a392728   \n",
       "13253  ffa38010-f656-1235-06b0-0cc47a392728   \n",
       "13254  ffb9ce70-b5b7-1235-06b0-0cc47a392728   \n",
       "13255  ffb9ce70-b5b7-1235-06b0-0cc47a392728   \n",
       "13256  ffc7fe86-fc9c-1235-06b0-0cc47a392728   \n",
       "13257  ffd63c31-c6fc-1235-06b0-0cc47a392728   \n",
       "13258  ffe8e77c-0ab8-1236-06b0-0cc47a392728   \n",
       "13259  ffec9a3f-d7b6-1235-06b0-0cc47a392728   \n",
       "13260  fff0cf48-e8ce-1235-06b0-0cc47a392728   \n",
       "\n",
       "                                             text window  \\\n",
       "0      [a, call, uh, next, thursday, around, the, sam...   \n",
       "1      [just, text, this, number, monday, morning, an...   \n",
       "2      [[noise], [noise], [noise], [noise], six, o'cl...   \n",
       "3       [hi, thanks, i'm, great, friday, right, [noise]]   \n",
       "4      [tuesday, will, figure, out, a, time, okay, ma...   \n",
       "5      [talk, on, monday, at, one, thirty, i'm, looki...   \n",
       "6      [with, that, being, a, friday, [noise], [noise...   \n",
       "7      [and, then, yeah, next, tuesday, i, know, you,...   \n",
       "8      [back, out, wednesday, after, two, [noise], [n...   \n",
       "9      [i'll, probably, around, like, eleven, tomorro...   \n",
       "10     [catch, her, around, five, five, o'clock, p.m....   \n",
       "11     [point, maybe, tuesday, or, wednesday, um, jus...   \n",
       "12     [[noise], [noise], two, and, three, o'clock, o...   \n",
       "13     [[noise], best, time, on, monday, okay, and, u...   \n",
       "14     [thursday, around, three, awesome, well, thank...   \n",
       "15      [but, now, it's, on, thursday, so, i, said, yes]   \n",
       "16     [on, monday, work, [laughter], monday, [noise]...   \n",
       "17     [[noise], [noise], [noise], okay, monday, okay...   \n",
       "18     [a, call, tomorrow, at, one, o'clock, i, alrig...   \n",
       "19     [minutes, maybe, tomorrow, or, wednesday, reco...   \n",
       "20     [[noise], yeah, yes, carter, one, today, [nois...   \n",
       "21     [[noise], [noise], tuesday, okay, cause, you, ...   \n",
       "22        [talked, talk, to, next, monday, but, [noise]]   \n",
       "23     [you, a, call, at, eleven, tomorrow, okay, sou...   \n",
       "24     [cargo, [noise], [noise], [noise], [noise], [n...   \n",
       "25     [on, thursday, you'll, have, you'll, we, live,...   \n",
       "26        [is, he, okay, on, thursday, okay, i, do, you]   \n",
       "27     [today, i, can, try, monday, [noise], [noise],...   \n",
       "28     [[noise], [noise], [noise], [noise], two, o'cl...   \n",
       "29     [well, hey, back, in, monday, [noise], [noise]...   \n",
       "...                                                  ...   \n",
       "13231  [to, eight, thirty, on, monday, uh, if, you, r...   \n",
       "13232  [son, i'm, sorry, i, sunday, monday, and, then...   \n",
       "13233  [after, eleven, thirty, on, monday, june, elev...   \n",
       "13234  [talk, to, you, on, friday, then, and, we'll, ...   \n",
       "13235  [on, one, o'clock, on, tuesday, and, we, will,...   \n",
       "13236  [great, rest, of, your, friday, [noise], [nois...   \n",
       "13237  [works, for, you, next, tuesday, the, nineteen...   \n",
       "13238    [weekend, all, like, your, monday, hi, [noise]]   \n",
       "13239  [uh, what, time, tomorrow, wednesday, all, rig...   \n",
       "13240  [call, back, with, one, two, o'clock, sure, ok...   \n",
       "13241  [that, you, liked, on, thursday, [noise], [noi...   \n",
       "13242  [thirty, on, friday, and, we'll, get, you, set...   \n",
       "13243  [usually, up, till, about, two, am, doing, hom...   \n",
       "13244      [you, a, call, a, wednesday, to, uh, yeah, i]   \n",
       "13245  [to, go, through, on, sunday, um, we, have, ev...   \n",
       "13246  [better, for, you, [noise], one, o'clock, okay...   \n",
       "13247  [i, will, call, on, thursday, thank, you, so, ...   \n",
       "13248  [a, call, on, thursday, alright, [noise], hi, ...   \n",
       "13249  [i, will, call, you, friday, at, ten, thirty, ...   \n",
       "13250  [i'll, call, you, on, friday, right, [noise], ...   \n",
       "13251  [for, me, tuesday, two, thirty, uh, you, guys,...   \n",
       "13252  [schedule, yourself, them, happy, friday, let,...   \n",
       "13253  [up, with, you, wednesday, alrighty, thanks, [...   \n",
       "13254  [[noise], oh, i, thought, thursday, he'll, be,...   \n",
       "13255  [[noise], oh, i, thought, thursday, he'll, be,...   \n",
       "13256  [call, from, this, number, thursday, at, one, ...   \n",
       "13257  [call, back, in, like, three, o'clock, after, ...   \n",
       "13258  [give, you, a, call, monday, thanks, [noise], ...   \n",
       "13259  [to, like, it's, almost, five, o'clock, over, ...   \n",
       "13260  [email, from, you, by, monday, i, don't, have, a]   \n",
       "\n",
       "                Follow up Time  \n",
       "0      2017-08-10 21:06:22 UTC  \n",
       "1      2017-07-17 15:03:56 UTC  \n",
       "2      2017-06-08 15:26:20 UTC  \n",
       "3      2017-08-23 14:31:35 UTC  \n",
       "4      2017-08-10 21:31:30 UTC  \n",
       "5      2017-08-14 18:37:27 UTC  \n",
       "6      2017-08-07 20:13:13 UTC  \n",
       "7      2017-08-22 19:02:08 UTC  \n",
       "8      2017-08-24 18:14:02 UTC  \n",
       "9      2017-07-06 20:15:08 UTC  \n",
       "10     2017-05-18 22:18:47 UTC  \n",
       "11     2017-09-01 21:37:08 UTC  \n",
       "12     2017-06-19 21:24:45 UTC  \n",
       "13     2017-09-11 21:23:01 UTC  \n",
       "14     2017-07-20 22:01:04 UTC  \n",
       "15     2017-06-13 15:24:08 UTC  \n",
       "16     2017-06-09 00:00:07 UTC  \n",
       "17     2017-08-10 18:52:34 UTC  \n",
       "18     2017-08-18 17:07:45 UTC  \n",
       "19     2017-06-13 21:55:19 UTC  \n",
       "20     2017-07-21 20:26:41 UTC  \n",
       "21     2016-08-31 16:40:25 UTC  \n",
       "22     2017-08-25 00:32:36 UTC  \n",
       "23     2017-08-17 17:01:18 UTC  \n",
       "24     2017-06-02 20:27:40 UTC  \n",
       "25     2017-08-17 21:04:09 UTC  \n",
       "26     2017-05-18 16:07:11 UTC  \n",
       "27     2017-08-11 17:37:32 UTC  \n",
       "28     2017-07-31 20:46:05 UTC  \n",
       "29     2017-06-26 17:18:47 UTC  \n",
       "...                        ...  \n",
       "13231  2017-08-22 17:59:57 UTC  \n",
       "13232  2017-06-26 15:07:12 UTC  \n",
       "13233  2017-06-12 23:12:29 UTC  \n",
       "13234  2017-07-28 17:34:13 UTC  \n",
       "13235  2017-08-15 20:51:09 UTC  \n",
       "13236  2017-09-18 18:44:09 UTC  \n",
       "13237  2017-09-18 17:04:52 UTC  \n",
       "13238  2017-09-11 19:00:06 UTC  \n",
       "13239  2017-05-17 20:00:00 UTC  \n",
       "13240  2017-05-31 15:09:28 UTC  \n",
       "13241  2017-08-31 20:27:15 UTC  \n",
       "13242  2017-07-07 18:36:01 UTC  \n",
       "13243  2017-09-14 23:04:42 UTC  \n",
       "13244  2017-07-12 18:00:55 UTC  \n",
       "13245  2017-07-31 20:31:37 UTC  \n",
       "13246  2017-06-01 18:01:30 UTC  \n",
       "13247  2017-09-06 20:47:53 UTC  \n",
       "13248  2017-07-27 19:03:02 UTC  \n",
       "13249  2017-03-17 14:30:01 UTC  \n",
       "13250  2016-08-23 18:59:20 UTC  \n",
       "13251  2017-07-25 20:40:07 UTC  \n",
       "13252  2017-07-19 16:41:20 UTC  \n",
       "13253  2017-08-09 20:33:12 UTC  \n",
       "13254  2017-05-17 15:27:29 UTC  \n",
       "13255  2017-05-18 15:13:11 UTC  \n",
       "13256  2017-08-17 19:04:42 UTC  \n",
       "13257  2017-06-12 18:04:36 UTC  \n",
       "13258  2017-09-05 19:04:12 UTC  \n",
       "13259  2017-06-30 18:14:52 UTC  \n",
       "13260  2017-07-24 16:05:15 UTC  \n",
       "\n",
       "[13261 rows x 3 columns]"
      ]
     },
     "execution_count": 3,
     "metadata": {},
     "output_type": "execute_result"
    }
   ],
   "source": [
    "with open('/Users/pranavbarot/Desktop/DataSci/cnn_training_data.p') as f:\n",
    "     final_df = pickle.load(f)\n",
    "final_df"
   ]
  },
  {
   "cell_type": "code",
   "execution_count": 10,
   "metadata": {},
   "outputs": [
    {
     "name": "stderr",
     "output_type": "stream",
     "text": [
      "2017-10-18 15:20:10,367 : INFO : collecting all words and their counts\n",
      "2017-10-18 15:20:10,369 : INFO : PROGRESS: at sentence #0, processed 0 words, keeping 0 word types\n",
      "2017-10-18 15:20:10,393 : INFO : PROGRESS: at sentence #10000, processed 92052 words, keeping 2016 word types\n",
      "2017-10-18 15:20:10,402 : INFO : collected 2331 word types from a corpus of 122050 raw words and 13261 sentences\n",
      "2017-10-18 15:20:10,403 : INFO : Loading a fresh vocabulary\n",
      "2017-10-18 15:20:10,406 : INFO : min_count=5 retains 681 unique words (29% of original 2331, drops 1650)\n",
      "2017-10-18 15:20:10,407 : INFO : min_count=5 leaves 119597 word corpus (97% of original 122050, drops 2453)\n",
      "2017-10-18 15:20:10,410 : INFO : deleting the raw counts dictionary of 2331 items\n",
      "2017-10-18 15:20:10,410 : INFO : sample=0.001 downsamples 81 most-common words\n",
      "2017-10-18 15:20:10,411 : INFO : downsampling leaves estimated 63303 word corpus (52.9% of prior 119597)\n",
      "2017-10-18 15:20:10,412 : INFO : estimated required memory for 681 words and 100 dimensions: 885300 bytes\n",
      "2017-10-18 15:20:10,415 : INFO : resetting layer weights\n",
      "2017-10-18 15:20:10,424 : INFO : training model with 3 workers on 681 vocabulary and 100 features, using sg=0 hs=0 sample=0.001 negative=5 window=5\n",
      "2017-10-18 15:20:10,783 : INFO : worker thread finished; awaiting finish of 2 more threads\n",
      "2017-10-18 15:20:10,784 : INFO : worker thread finished; awaiting finish of 1 more threads\n",
      "2017-10-18 15:20:10,788 : INFO : worker thread finished; awaiting finish of 0 more threads\n",
      "2017-10-18 15:20:10,789 : INFO : training on 610250 raw words (316444 effective words) took 0.4s, 874148 effective words/s\n"
     ]
    },
    {
     "data": {
      "text/plain": [
       "<gensim.models.word2vec.Word2Vec at 0x1124d0a10>"
      ]
     },
     "execution_count": 10,
     "metadata": {},
     "output_type": "execute_result"
    }
   ],
   "source": [
    "sentences = final_df['text window']\n",
    "\n",
    "\n",
    "model = gensim.models.Word2Vec(sentences)\n",
    "model"
   ]
  }
 ],
 "metadata": {
  "kernelspec": {
   "display_name": "Python 2",
   "language": "python",
   "name": "python2"
  },
  "language_info": {
   "codemirror_mode": {
    "name": "ipython",
    "version": 2
   },
   "file_extension": ".py",
   "mimetype": "text/x-python",
   "name": "python",
   "nbconvert_exporter": "python",
   "pygments_lexer": "ipython2",
   "version": "2.7.13"
  }
 },
 "nbformat": 4,
 "nbformat_minor": 2
}
